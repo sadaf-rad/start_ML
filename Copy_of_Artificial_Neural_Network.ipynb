{
  "nbformat": 4,
  "nbformat_minor": 0,
  "metadata": {
    "colab": {
      "provenance": [],
      "include_colab_link": true
    },
    "kernelspec": {
      "name": "python3",
      "display_name": "Python 3"
    }
  },
  "cells": [
    {
      "cell_type": "markdown",
      "metadata": {
        "id": "view-in-github",
        "colab_type": "text"
      },
      "source": [
        "<a href=\"https://colab.research.google.com/github/sadaf-rad/start_ML/blob/main/Copy_of_Artificial_Neural_Network.ipynb\" target=\"_parent\"><img src=\"https://colab.research.google.com/assets/colab-badge.svg\" alt=\"Open In Colab\"/></a>"
      ]
    },
    {
      "cell_type": "markdown",
      "metadata": {
        "id": "3cbb7fRy-eyr"
      },
      "source": [
        "# Artificial Neural Network"
      ]
    },
    {
      "cell_type": "markdown",
      "metadata": {
        "id": "8sNDnxE2-pwE"
      },
      "source": [
        "### Importing the libraries"
      ]
    },
    {
      "cell_type": "code",
      "source": [
        "import numpy as np"
      ],
      "metadata": {
        "id": "nn9zI6nK1d83"
      },
      "execution_count": null,
      "outputs": []
    },
    {
      "cell_type": "code",
      "source": [
        "import pandas as pd"
      ],
      "metadata": {
        "id": "voPj2ezr1ocU"
      },
      "execution_count": null,
      "outputs": []
    },
    {
      "cell_type": "code",
      "source": [
        "import tensorflow as tf"
      ],
      "metadata": {
        "id": "Imbx2iYj1s_c"
      },
      "execution_count": null,
      "outputs": []
    },
    {
      "cell_type": "code",
      "source": [
        "tf.__version__"
      ],
      "metadata": {
        "colab": {
          "base_uri": "https://localhost:8080/",
          "height": 35
        },
        "id": "zwNYB2ZY1yCU",
        "outputId": "c0ee1152-fd1e-42ff-eb54-21a3716f58a3"
      },
      "execution_count": null,
      "outputs": [
        {
          "output_type": "execute_result",
          "data": {
            "text/plain": [
              "'2.14.0'"
            ],
            "application/vnd.google.colaboratory.intrinsic+json": {
              "type": "string"
            }
          },
          "metadata": {},
          "execution_count": 4
        }
      ]
    },
    {
      "cell_type": "markdown",
      "metadata": {
        "id": "-4zq8Mza_D9O"
      },
      "source": [
        "### Importing the dataset"
      ]
    },
    {
      "cell_type": "code",
      "source": [
        "dataset = pd.read_excel('Folds5x2_pp.xlsx')\n",
        "X = dataset.iloc[:,:-1].values\n",
        "y = dataset.iloc[:,-1].values"
      ],
      "metadata": {
        "id": "GIQ5nMGX2Ak2"
      },
      "execution_count": null,
      "outputs": []
    },
    {
      "cell_type": "code",
      "source": [
        "print(X)"
      ],
      "metadata": {
        "colab": {
          "base_uri": "https://localhost:8080/"
        },
        "id": "d-EnRMYF2AiJ",
        "outputId": "243cc645-8afd-4316-f76d-82a51df85835"
      },
      "execution_count": null,
      "outputs": [
        {
          "output_type": "stream",
          "name": "stdout",
          "text": [
            "[[  14.96   41.76 1024.07   73.17]\n",
            " [  25.18   62.96 1020.04   59.08]\n",
            " [   5.11   39.4  1012.16   92.14]\n",
            " ...\n",
            " [  31.32   74.33 1012.92   36.48]\n",
            " [  24.48   69.45 1013.86   62.39]\n",
            " [  21.6    62.52 1017.23   67.87]]\n"
          ]
        }
      ]
    },
    {
      "cell_type": "code",
      "source": [
        "print(y)"
      ],
      "metadata": {
        "colab": {
          "base_uri": "https://localhost:8080/"
        },
        "id": "7UmliERY2AfF",
        "outputId": "5b6ab23d-3c1c-4582-b6f6-bd8d0da15895"
      },
      "execution_count": null,
      "outputs": [
        {
          "output_type": "stream",
          "name": "stdout",
          "text": [
            "[463.26 444.37 488.56 ... 429.57 435.74 453.28]\n"
          ]
        }
      ]
    },
    {
      "cell_type": "markdown",
      "metadata": {
        "id": "AG3FQEch-yuA"
      },
      "source": [
        "## Part 1 - Data Preprocessing"
      ]
    },
    {
      "cell_type": "markdown",
      "metadata": {
        "id": "VC6omXel_Up0"
      },
      "source": [
        "### Splitting the dataset into the Training set and Test set"
      ]
    },
    {
      "cell_type": "code",
      "source": [
        "from sklearn.model_selection import train_test_split\n",
        "X_train , X_test , y_train , y_test = train_test_split(X,y,test_size = 0.2 , random_state = 0 )"
      ],
      "metadata": {
        "id": "iEirBMTj7Msv"
      },
      "execution_count": null,
      "outputs": []
    },
    {
      "cell_type": "markdown",
      "metadata": {
        "id": "_mSLlAT9_eyI"
      },
      "source": [
        "## Part 2 - Building the ANN"
      ]
    },
    {
      "cell_type": "code",
      "source": [
        "ann = tf.keras.models.Sequential()"
      ],
      "metadata": {
        "id": "frt_793T6H-y"
      },
      "execution_count": null,
      "outputs": []
    },
    {
      "cell_type": "markdown",
      "metadata": {
        "id": "iitAFJS_ABUn"
      },
      "source": [
        "### Adding the input layer and the first hidden layer"
      ]
    },
    {
      "cell_type": "code",
      "source": [
        "ann.add(tf.keras.layers.Dense(units=6,activation='relu'))"
      ],
      "metadata": {
        "id": "SGjHGIy3HBRZ"
      },
      "execution_count": null,
      "outputs": []
    },
    {
      "cell_type": "markdown",
      "metadata": {
        "id": "-lb4kK_wAKbs"
      },
      "source": [
        "### Adding the second hidden layer"
      ]
    },
    {
      "cell_type": "code",
      "source": [
        "ann.add(tf.keras.layers.Dense(units=6,activation='relu'))"
      ],
      "metadata": {
        "id": "8lQTelfVIbHp"
      },
      "execution_count": null,
      "outputs": []
    },
    {
      "cell_type": "markdown",
      "metadata": {
        "id": "jwMOmKb3AdBY"
      },
      "source": [
        "### Adding the output layer"
      ]
    },
    {
      "cell_type": "code",
      "source": [
        "ann.add(tf.keras.layers.Dense(units=1))"
      ],
      "metadata": {
        "id": "YWNidBt_Iss9"
      },
      "execution_count": null,
      "outputs": []
    },
    {
      "cell_type": "markdown",
      "metadata": {
        "id": "fq7e4fF6A1yy"
      },
      "source": [
        "## Part 3 - Training the ANN"
      ]
    },
    {
      "cell_type": "markdown",
      "metadata": {
        "id": "qDeylAs2An25"
      },
      "source": [
        "### Compiling the ANN"
      ]
    },
    {
      "cell_type": "code",
      "source": [
        "ann.compile(optimizer = 'adam', loss = 'mean_squared_error')"
      ],
      "metadata": {
        "id": "pSR0VTDvLZyo"
      },
      "execution_count": null,
      "outputs": []
    },
    {
      "cell_type": "markdown",
      "metadata": {
        "id": "YjVuiybYOo7r"
      },
      "source": [
        "### Training the ANN model on the Training set"
      ]
    },
    {
      "cell_type": "code",
      "source": [
        "ann.fit(X_train, y_train, epochs = 100 , batch_size = 32)"
      ],
      "metadata": {
        "colab": {
          "base_uri": "https://localhost:8080/"
        },
        "id": "l-R_5VxeMopn",
        "outputId": "3b4b1dd9-79d1-4b54-8957-daadb457e35c"
      },
      "execution_count": null,
      "outputs": [
        {
          "output_type": "stream",
          "name": "stdout",
          "text": [
            "Epoch 1/100\n",
            "240/240 [==============================] - 1s 2ms/step - loss: 185186.7500\n",
            "Epoch 2/100\n",
            "240/240 [==============================] - 1s 4ms/step - loss: 184980.7344\n",
            "Epoch 3/100\n",
            "240/240 [==============================] - 1s 4ms/step - loss: 184775.0000\n",
            "Epoch 4/100\n",
            "240/240 [==============================] - 1s 4ms/step - loss: 184569.5000\n",
            "Epoch 5/100\n",
            "240/240 [==============================] - 1s 2ms/step - loss: 184363.9531\n",
            "Epoch 6/100\n",
            "240/240 [==============================] - 1s 2ms/step - loss: 184158.5156\n",
            "Epoch 7/100\n",
            "240/240 [==============================] - 0s 2ms/step - loss: 183953.2812\n",
            "Epoch 8/100\n",
            "240/240 [==============================] - 1s 2ms/step - loss: 183748.1250\n",
            "Epoch 9/100\n",
            "240/240 [==============================] - 0s 2ms/step - loss: 183543.0156\n",
            "Epoch 10/100\n",
            "240/240 [==============================] - 1s 2ms/step - loss: 183338.0781\n",
            "Epoch 11/100\n",
            "240/240 [==============================] - 1s 2ms/step - loss: 183133.2500\n",
            "Epoch 12/100\n",
            "240/240 [==============================] - 1s 2ms/step - loss: 182928.5938\n",
            "Epoch 13/100\n",
            "240/240 [==============================] - 1s 2ms/step - loss: 182723.9688\n",
            "Epoch 14/100\n",
            "240/240 [==============================] - 1s 2ms/step - loss: 182519.5156\n",
            "Epoch 15/100\n",
            "240/240 [==============================] - 1s 2ms/step - loss: 182315.0625\n",
            "Epoch 16/100\n",
            "240/240 [==============================] - 1s 2ms/step - loss: 182110.8594\n",
            "Epoch 17/100\n",
            "240/240 [==============================] - 1s 2ms/step - loss: 181906.6875\n",
            "Epoch 18/100\n",
            "240/240 [==============================] - 1s 2ms/step - loss: 181702.6562\n",
            "Epoch 19/100\n",
            "240/240 [==============================] - 1s 2ms/step - loss: 181498.7656\n",
            "Epoch 20/100\n",
            "240/240 [==============================] - 1s 2ms/step - loss: 181295.0156\n",
            "Epoch 21/100\n",
            "240/240 [==============================] - 1s 2ms/step - loss: 181091.4375\n",
            "Epoch 22/100\n",
            "240/240 [==============================] - 1s 2ms/step - loss: 180887.8125\n",
            "Epoch 23/100\n",
            "240/240 [==============================] - 1s 2ms/step - loss: 180684.3906\n",
            "Epoch 24/100\n",
            "240/240 [==============================] - 1s 3ms/step - loss: 180481.0625\n",
            "Epoch 25/100\n",
            "240/240 [==============================] - 1s 3ms/step - loss: 180277.8125\n",
            "Epoch 26/100\n",
            "240/240 [==============================] - 1s 3ms/step - loss: 180074.7188\n",
            "Epoch 27/100\n",
            "240/240 [==============================] - 1s 3ms/step - loss: 179871.6562\n",
            "Epoch 28/100\n",
            "240/240 [==============================] - 1s 2ms/step - loss: 179668.7812\n",
            "Epoch 29/100\n",
            "240/240 [==============================] - 1s 2ms/step - loss: 179466.0000\n",
            "Epoch 30/100\n",
            "240/240 [==============================] - 1s 2ms/step - loss: 179263.3438\n",
            "Epoch 31/100\n",
            "240/240 [==============================] - 1s 2ms/step - loss: 179060.8594\n",
            "Epoch 32/100\n",
            "240/240 [==============================] - 0s 2ms/step - loss: 178858.4375\n",
            "Epoch 33/100\n",
            "240/240 [==============================] - 0s 2ms/step - loss: 178656.1875\n",
            "Epoch 34/100\n",
            "240/240 [==============================] - 0s 2ms/step - loss: 178453.9688\n",
            "Epoch 35/100\n",
            "240/240 [==============================] - 1s 2ms/step - loss: 178251.8438\n",
            "Epoch 36/100\n",
            "240/240 [==============================] - 0s 2ms/step - loss: 178049.9688\n",
            "Epoch 37/100\n",
            "240/240 [==============================] - 1s 2ms/step - loss: 177848.0469\n",
            "Epoch 38/100\n",
            "240/240 [==============================] - 1s 2ms/step - loss: 177646.3594\n",
            "Epoch 39/100\n",
            "240/240 [==============================] - 1s 2ms/step - loss: 177444.8281\n",
            "Epoch 40/100\n",
            "240/240 [==============================] - 1s 2ms/step - loss: 177243.4062\n",
            "Epoch 41/100\n",
            "240/240 [==============================] - 1s 2ms/step - loss: 177041.9531\n",
            "Epoch 42/100\n",
            "240/240 [==============================] - 0s 2ms/step - loss: 176840.7031\n",
            "Epoch 43/100\n",
            "240/240 [==============================] - 0s 2ms/step - loss: 176639.5781\n",
            "Epoch 44/100\n",
            "240/240 [==============================] - 1s 2ms/step - loss: 176438.4844\n",
            "Epoch 45/100\n",
            "240/240 [==============================] - 0s 2ms/step - loss: 176237.5781\n",
            "Epoch 46/100\n",
            "240/240 [==============================] - 0s 2ms/step - loss: 176036.7500\n",
            "Epoch 47/100\n",
            "240/240 [==============================] - 1s 3ms/step - loss: 175836.1094\n",
            "Epoch 48/100\n",
            "240/240 [==============================] - 1s 3ms/step - loss: 175635.4375\n",
            "Epoch 49/100\n",
            "240/240 [==============================] - 1s 3ms/step - loss: 175435.0156\n",
            "Epoch 50/100\n",
            "240/240 [==============================] - 1s 3ms/step - loss: 175234.6094\n",
            "Epoch 51/100\n",
            "240/240 [==============================] - 0s 2ms/step - loss: 175034.4688\n",
            "Epoch 52/100\n",
            "240/240 [==============================] - 0s 2ms/step - loss: 174834.3438\n",
            "Epoch 53/100\n",
            "240/240 [==============================] - 0s 2ms/step - loss: 174634.3750\n",
            "Epoch 54/100\n",
            "240/240 [==============================] - 1s 2ms/step - loss: 174434.4844\n",
            "Epoch 55/100\n",
            "240/240 [==============================] - 0s 2ms/step - loss: 174234.7031\n",
            "Epoch 56/100\n",
            "240/240 [==============================] - 1s 2ms/step - loss: 174035.0469\n",
            "Epoch 57/100\n",
            "240/240 [==============================] - 1s 2ms/step - loss: 173835.5156\n",
            "Epoch 58/100\n",
            "240/240 [==============================] - 1s 2ms/step - loss: 173636.0938\n",
            "Epoch 59/100\n",
            "240/240 [==============================] - 1s 2ms/step - loss: 173436.8125\n",
            "Epoch 60/100\n",
            "240/240 [==============================] - 0s 2ms/step - loss: 173237.6094\n",
            "Epoch 61/100\n",
            "240/240 [==============================] - 1s 2ms/step - loss: 173038.5000\n",
            "Epoch 62/100\n",
            "240/240 [==============================] - 1s 2ms/step - loss: 172839.5312\n",
            "Epoch 63/100\n",
            "240/240 [==============================] - 0s 2ms/step - loss: 172640.6719\n",
            "Epoch 64/100\n",
            "240/240 [==============================] - 0s 2ms/step - loss: 172441.9531\n",
            "Epoch 65/100\n",
            "240/240 [==============================] - 0s 2ms/step - loss: 172243.2969\n",
            "Epoch 66/100\n",
            "240/240 [==============================] - 1s 2ms/step - loss: 172044.8281\n",
            "Epoch 67/100\n",
            "240/240 [==============================] - 0s 2ms/step - loss: 171846.4219\n",
            "Epoch 68/100\n",
            "240/240 [==============================] - 1s 2ms/step - loss: 171648.2500\n",
            "Epoch 69/100\n",
            "240/240 [==============================] - 1s 2ms/step - loss: 171450.0469\n",
            "Epoch 70/100\n",
            "240/240 [==============================] - 1s 3ms/step - loss: 171252.0000\n",
            "Epoch 71/100\n",
            "240/240 [==============================] - 1s 3ms/step - loss: 171054.0625\n",
            "Epoch 72/100\n",
            "240/240 [==============================] - 1s 3ms/step - loss: 170856.2188\n",
            "Epoch 73/100\n",
            "240/240 [==============================] - 1s 5ms/step - loss: 170658.4531\n",
            "Epoch 74/100\n",
            "240/240 [==============================] - 1s 3ms/step - loss: 170460.8125\n",
            "Epoch 75/100\n",
            "240/240 [==============================] - 1s 2ms/step - loss: 170263.3594\n",
            "Epoch 76/100\n",
            "240/240 [==============================] - 1s 3ms/step - loss: 170066.0312\n",
            "Epoch 77/100\n",
            "240/240 [==============================] - 0s 2ms/step - loss: 169868.7031\n",
            "Epoch 78/100\n",
            "240/240 [==============================] - 1s 2ms/step - loss: 169671.6562\n",
            "Epoch 79/100\n",
            "240/240 [==============================] - 0s 2ms/step - loss: 169474.6562\n",
            "Epoch 80/100\n",
            "240/240 [==============================] - 0s 2ms/step - loss: 169277.8750\n",
            "Epoch 81/100\n",
            "240/240 [==============================] - 0s 2ms/step - loss: 169081.0312\n",
            "Epoch 82/100\n",
            "240/240 [==============================] - 1s 2ms/step - loss: 168884.4062\n",
            "Epoch 83/100\n",
            "240/240 [==============================] - 1s 2ms/step - loss: 168687.7656\n",
            "Epoch 84/100\n",
            "240/240 [==============================] - 0s 2ms/step - loss: 168491.4844\n",
            "Epoch 85/100\n",
            "240/240 [==============================] - 0s 2ms/step - loss: 168295.0469\n",
            "Epoch 86/100\n",
            "240/240 [==============================] - 0s 2ms/step - loss: 168098.8438\n",
            "Epoch 87/100\n",
            "240/240 [==============================] - 1s 2ms/step - loss: 167902.7500\n",
            "Epoch 88/100\n",
            "240/240 [==============================] - 0s 2ms/step - loss: 167706.7344\n",
            "Epoch 89/100\n",
            "240/240 [==============================] - 1s 2ms/step - loss: 167510.9062\n",
            "Epoch 90/100\n",
            "240/240 [==============================] - 1s 2ms/step - loss: 167315.1406\n",
            "Epoch 91/100\n",
            "240/240 [==============================] - 1s 2ms/step - loss: 167119.5000\n",
            "Epoch 92/100\n",
            "240/240 [==============================] - 1s 3ms/step - loss: 166924.0000\n",
            "Epoch 93/100\n",
            "240/240 [==============================] - 1s 3ms/step - loss: 166728.5625\n",
            "Epoch 94/100\n",
            "240/240 [==============================] - 1s 3ms/step - loss: 166533.2812\n",
            "Epoch 95/100\n",
            "240/240 [==============================] - 1s 2ms/step - loss: 166338.1094\n",
            "Epoch 96/100\n",
            "240/240 [==============================] - 1s 2ms/step - loss: 166143.0625\n",
            "Epoch 97/100\n",
            "240/240 [==============================] - 1s 2ms/step - loss: 165948.1562\n",
            "Epoch 98/100\n",
            "240/240 [==============================] - 1s 2ms/step - loss: 165753.2969\n",
            "Epoch 99/100\n",
            "240/240 [==============================] - 0s 2ms/step - loss: 165558.5156\n",
            "Epoch 100/100\n",
            "240/240 [==============================] - 1s 2ms/step - loss: 165364.0000\n"
          ]
        },
        {
          "output_type": "execute_result",
          "data": {
            "text/plain": [
              "<keras.src.callbacks.History at 0x7cfdbf6c9330>"
            ]
          },
          "metadata": {},
          "execution_count": 22
        }
      ]
    },
    {
      "cell_type": "markdown",
      "metadata": {
        "id": "0H0zKKNEBLD5"
      },
      "source": [
        "### Predicting the results of the Test set"
      ]
    },
    {
      "cell_type": "code",
      "source": [
        "y _pred= ann.predict(X_test)\n",
        "np.set_printoptions(precision=2)\n",
        "print (np.concatenate((y_pred.reshape(len(y_pred),1) ,y_test.reshape(len(y_test),1)),1))\n"
      ],
      "metadata": {
        "colab": {
          "base_uri": "https://localhost:8080/"
        },
        "id": "DqWu7xcPOWk2",
        "outputId": "94f6424a-4dd2-480c-fd31-bf31a4cab665"
      },
      "execution_count": null,
      "outputs": [
        {
          "output_type": "stream",
          "name": "stdout",
          "text": [
            "60/60 [==============================] - 0s 1ms/step\n",
            "[[ 48.13 431.23]\n",
            " [ 48.13 460.01]\n",
            " [ 48.13 461.14]\n",
            " ...\n",
            " [ 48.13 473.26]\n",
            " [ 48.13 438.  ]\n",
            " [ 48.13 463.28]]\n"
          ]
        }
      ]
    }
  ]
}